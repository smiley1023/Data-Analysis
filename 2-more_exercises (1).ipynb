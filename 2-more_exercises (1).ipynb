{
 "cells": [
  {
   "cell_type": "markdown",
   "metadata": {
    "deletable": false,
    "editable": false,
    "nbgrader": {
     "grade": false,
     "grade_id": "cell-3b25f2b6cfc80b65",
     "locked": true,
     "schema_version": 1,
     "solution": false
    }
   },
   "source": [
    "# Python review: More exercises\n",
    "\n",
    "This notebook continues the review of Python basics. A key concept is that of a _nested_ data structure. For example, the first code cell will define a 2-D \"array\" as a list of lists."
   ]
  },
  {
   "cell_type": "code",
   "execution_count": 1,
   "metadata": {
    "collapsed": true
   },
   "outputs": [],
   "source": [
    "%load_ext autoreload\n",
    "%autoreload 2"
   ]
  },
  {
   "cell_type": "markdown",
   "metadata": {
    "deletable": false,
    "editable": false,
    "nbgrader": {
     "grade": false,
     "grade_id": "cell-f3331b5182117a1f",
     "locked": true,
     "schema_version": 1,
     "solution": false
    }
   },
   "source": [
    "Consider the following dataset of exam grades, organized as a 2-D table and stored in Python as a \"list of lists\" under the variable name, `grades`."
   ]
  },
  {
   "cell_type": "code",
   "execution_count": 2,
   "metadata": {
    "deletable": false,
    "editable": false,
    "nbgrader": {
     "grade": false,
     "grade_id": "cell-9dc72b683a8858c7",
     "locked": true,
     "schema_version": 1,
     "solution": false
    }
   },
   "outputs": [
    {
     "data": {
      "text/plain": [
       "[['Student', 'Exam 1', 'Exam 2', 'Exam 3'],\n",
       " ['Thorny', '100', '90', '80'],\n",
       " ['Mac', '88', '99', '111'],\n",
       " ['Farva', '45', '56', '67'],\n",
       " ['Rabbit', '59', '61', '67'],\n",
       " ['Ursula', '73', '79', '83'],\n",
       " ['Foster', '89', '97', '101']]"
      ]
     },
     "execution_count": 2,
     "metadata": {},
     "output_type": "execute_result"
    }
   ],
   "source": [
    "grades = [\n",
    "    # First line is descriptive header. Subsequent lines hold data\n",
    "    ['Student', 'Exam 1', 'Exam 2', 'Exam 3'],\n",
    "    ['Thorny', '100', '90', '80'],\n",
    "    ['Mac', '88', '99', '111'],\n",
    "    ['Farva', '45', '56', '67'],\n",
    "    ['Rabbit', '59', '61', '67'],\n",
    "    ['Ursula', '73', '79', '83'],\n",
    "    ['Foster', '89', '97', '101']\n",
    "]\n",
    "\n",
    "grades"
   ]
  },
  {
   "cell_type": "markdown",
   "metadata": {
    "deletable": false,
    "editable": false,
    "nbgrader": {
     "grade": false,
     "grade_id": "cell-04082681e80572d5",
     "locked": true,
     "schema_version": 1,
     "solution": false
    }
   },
   "source": [
    "**Exercise 0** (`students_test`: 1 point). Complete the function `get_students` which takes a nested list `grades` as a parameter and reutrns a new list, `students`, which holds the names of the students as they from \"top to bottom\" in the table. \n",
    "- **Note**: the parameter `grades` will be similar to the table above in structure, but the data will be different."
   ]
  },
  {
   "cell_type": "code",
   "execution_count": 3,
   "metadata": {
    "nbgrader": {
     "grade": false,
     "grade_id": "students",
     "locked": false,
     "schema_version": 1,
     "solution": true
    }
   },
   "outputs": [
    {
     "name": "stdout",
     "output_type": "stream",
     "text": [
      "['Thorny', 'Mac', 'Farva', 'Rabbit', 'Ursula', 'Foster']\n"
     ]
    }
   ],
   "source": [
    "def get_students(grades):\n",
    "    # empty list after iteration to append \n",
    "    students = []\n",
    "    # iterates through the rows of grades list starting from the second row (index 1)\n",
    "    for i in range(1, len(grades)):\n",
    "    # appends the first student name of each row to the students list\n",
    "        students.append(grades[i][0])\n",
    "    # returns the students list containing all student names\n",
    "    return (students)\n",
    "print(get_students(grades))\n",
    "    ###\n",
    "    ### YOUR CODE HERE\n",
    "    ###\n"
   ]
  },
  {
   "cell_type": "markdown",
   "metadata": {
    "deletable": false,
    "editable": false,
    "nbgrader": {
     "grade": false,
     "locked": true,
     "solution": false
    }
   },
   "source": [
    "The demo cell below should display `['Thorny', 'Mac', 'Farva', 'Rabbit', 'Ursula', 'Foster']`."
   ]
  },
  {
   "cell_type": "code",
   "execution_count": 4,
   "metadata": {
    "deletable": false,
    "editable": false,
    "nbgrader": {
     "grade": false,
     "locked": true,
     "solution": false
    }
   },
   "outputs": [
    {
     "data": {
      "text/plain": [
       "['Thorny', 'Mac', 'Farva', 'Rabbit', 'Ursula', 'Foster']"
      ]
     },
     "execution_count": 4,
     "metadata": {},
     "output_type": "execute_result"
    }
   ],
   "source": [
    "students = get_students(grades)\n",
    "students"
   ]
  },
  {
   "cell_type": "markdown",
   "metadata": {
    "deletable": false,
    "editable": false,
    "nbgrader": {
     "grade": false,
     "locked": true,
     "solution": false
    }
   },
   "source": [
    "The test cell below will check your solution against several randomly generated test cases. If your solution does not pass the test (or if you're just curious), you can look at the variables used in the latest test run. They are automatically imported for you as part of the test.\n",
    "\n",
    "- `input_vars` - Dictionary containing all of the inputs to your function. Keys are the parameter names.\n",
    "- `original_input_vars` - Dictionary containing a copy of all the inputs to your function. This is useful for debugging failures related to your solution modifying the input. Keys are the parameter names.\n",
    "- `returned_output_vars` - Dictionary containing the outputs your function generated. If there are multiple outputs, the keys will match the names mentioned in the exercrise instructions.\n",
    "- `true_output_vars` - Dictionary containing the outputs your function **should have** generated. If there are multiple outputs, the keys will match the names mentioned in the exercrise instructions.\n",
    "\n",
    "All of the test cells in this notebook will use the same format, and you can expect a similar format on your exams as well."
   ]
  },
  {
   "cell_type": "code",
   "execution_count": 5,
   "metadata": {
    "deletable": false,
    "editable": false,
    "nbgrader": {
     "grade": true,
     "grade_id": "students_test",
     "locked": true,
     "points": "1",
     "solution": false
    }
   },
   "outputs": [
    {
     "name": "stdout",
     "output_type": "stream",
     "text": [
      "Passed. Please submit!\n"
     ]
    }
   ],
   "source": [
    "# `students_test`: Test cell\n",
    "import nb_1_2_tester\n",
    "tester = nb_1_2_tester.Tester_1_2_0()\n",
    "for _ in range(20):\n",
    "    try:\n",
    "        tester.run_test(get_students)\n",
    "        (input_vars, original_input_vars, returned_output_vars, true_output_vars) = tester.get_test_vars()\n",
    "    except:\n",
    "        (input_vars, original_input_vars, returned_output_vars, true_output_vars) = tester.get_test_vars()\n",
    "        raise\n",
    "print('Passed. Please submit!')"
   ]
  },
  {
   "cell_type": "markdown",
   "metadata": {
    "deletable": false,
    "editable": false,
    "nbgrader": {
     "grade": false,
     "grade_id": "cell-e5e0181d53efed56",
     "locked": true,
     "schema_version": 1,
     "solution": false
    }
   },
   "source": [
    "**Exercise 1** (`assignments_test`: 1 point). Complete the function `get_assignments`. The function takes `grades` (a nested list structured similarly to `grades` above) as a parameter. It should return a new list `assignments` which holds the names of the class assignments. (These appear in the descriptive header element of `grades`.)"
   ]
  },
  {
   "cell_type": "code",
   "execution_count": 6,
   "metadata": {
    "collapsed": true,
    "nbgrader": {
     "grade": false,
     "grade_id": "assignments",
     "locked": false,
     "schema_version": 1,
     "solution": true
    }
   },
   "outputs": [],
   "source": [
    "def get_assignments(grades):\n",
    "    return (grades[0][1:])\n",
    "    ###\n",
    "    ### YOUR CODE HERE\n",
    "    ###\n"
   ]
  },
  {
   "cell_type": "markdown",
   "metadata": {
    "deletable": false,
    "editable": false,
    "nbgrader": {
     "grade": false,
     "locked": true,
     "solution": false
    }
   },
   "source": [
    "The demo cell below should display `['Exam 1', 'Exam 2', 'Exam 3']`"
   ]
  },
  {
   "cell_type": "code",
   "execution_count": 7,
   "metadata": {
    "deletable": false,
    "editable": false,
    "nbgrader": {
     "grade": false,
     "locked": true,
     "solution": false
    }
   },
   "outputs": [
    {
     "data": {
      "text/plain": [
       "['Exam 1', 'Exam 2', 'Exam 3']"
      ]
     },
     "execution_count": 7,
     "metadata": {},
     "output_type": "execute_result"
    }
   ],
   "source": [
    "assignments = get_assignments(grades)\n",
    "assignments"
   ]
  },
  {
   "cell_type": "markdown",
   "metadata": {
    "deletable": false,
    "editable": false,
    "nbgrader": {
     "grade": false,
     "locked": true,
     "solution": false
    }
   },
   "source": [
    "The following test cell will check your function against several randomly generated test cases."
   ]
  },
  {
   "cell_type": "code",
   "execution_count": 8,
   "metadata": {
    "deletable": false,
    "editable": false,
    "nbgrader": {
     "grade": true,
     "grade_id": "assignments_test",
     "locked": true,
     "points": "1",
     "solution": false
    }
   },
   "outputs": [
    {
     "name": "stdout",
     "output_type": "stream",
     "text": [
      "Passed. Please submit!\n"
     ]
    }
   ],
   "source": [
    "import nb_1_2_tester\n",
    "tester = nb_1_2_tester.Tester_1_2_1()\n",
    "for _ in range(20):\n",
    "    try:\n",
    "        tester.run_test(get_assignments)\n",
    "        (input_vars, original_input_vars, returned_output_vars, true_output_vars) = tester.get_test_vars()\n",
    "    except:\n",
    "        (input_vars, original_input_vars, returned_output_vars, true_output_vars) = tester.get_test_vars()\n",
    "        raise\n",
    "print('Passed. Please submit!')"
   ]
  },
  {
   "cell_type": "markdown",
   "metadata": {
    "deletable": false,
    "editable": false,
    "nbgrader": {
     "grade": false,
     "grade_id": "cell-1bd41417aad245fa",
     "locked": true,
     "schema_version": 1,
     "solution": false
    }
   },
   "source": [
    "**Exercise 2** (`grade_lists_test`: 1 point). Complete the function for `build_grade_lists`, again taking `grades` as a parameter. The function should return a new _dictionary_, named `grade_lists`, that maps names of students to _lists_ of their exam grades. The grades should be converted from strings to integers. For instance, `grade_lists['Thorny'] == [100, 90, 80]`."
   ]
  },
  {
   "cell_type": "code",
   "execution_count": 9,
   "metadata": {
    "nbgrader": {
     "grade": false,
     "grade_id": "grade_lists",
     "locked": false,
     "schema_version": 1,
     "solution": true
    }
   },
   "outputs": [
    {
     "name": "stdout",
     "output_type": "stream",
     "text": [
      "['Thorny', 'Mac', 'Farva', 'Rabbit', 'Ursula', 'Foster']\n",
      "['Exam 1', 'Exam 2', 'Exam 3']\n",
      "{'Thorny': [100, 90, 80], 'Mac': [88, 99, 111], 'Farva': [45, 56, 67], 'Rabbit': [59, 61, 67], 'Ursula': [73, 79, 83], 'Foster': [89, 97, 101]}\n"
     ]
    }
   ],
   "source": [
    "# Create a dict mapping names to lists of grades.\n",
    "def build_grade_lists(grades):\n",
    "    grade_lists = {}\n",
    "    for student in grades[1:]:\n",
    "        name = student[0]\n",
    "        grades = [int(grade) for grade in student[1:]]\n",
    "        grade_lists[name] = grades\n",
    "    return grade_lists\n",
    "\n",
    "print(get_students(grades))\n",
    "print(get_assignments(grades))\n",
    "print(build_grade_lists(grades))\n",
    "\n",
    "\n",
    "    ###\n",
    "    ### YOUR CODE HERE\n",
    "    ###\n"
   ]
  },
  {
   "cell_type": "markdown",
   "metadata": {
    "deletable": false,
    "editable": false,
    "nbgrader": {
     "grade": false,
     "locked": true,
     "solution": false
    }
   },
   "source": [
    "The demo cell below should display\n",
    "```\n",
    "{'Thorny': [100, 90, 80],\n",
    " 'Mac': [88, 99, 111],\n",
    " 'Farva': [45, 56, 67],\n",
    " 'Rabbit': [59, 61, 67],\n",
    " 'Ursula': [73, 79, 83],\n",
    " 'Foster': [89, 97, 101]}\n",
    "```"
   ]
  },
  {
   "cell_type": "code",
   "execution_count": 10,
   "metadata": {
    "deletable": false,
    "editable": false,
    "nbgrader": {
     "grade": false,
     "locked": true,
     "solution": false
    }
   },
   "outputs": [
    {
     "data": {
      "text/plain": [
       "{'Thorny': [100, 90, 80],\n",
       " 'Mac': [88, 99, 111],\n",
       " 'Farva': [45, 56, 67],\n",
       " 'Rabbit': [59, 61, 67],\n",
       " 'Ursula': [73, 79, 83],\n",
       " 'Foster': [89, 97, 101]}"
      ]
     },
     "execution_count": 10,
     "metadata": {},
     "output_type": "execute_result"
    }
   ],
   "source": [
    "grade_lists = build_grade_lists(grades)\n",
    "grade_lists"
   ]
  },
  {
   "cell_type": "code",
   "execution_count": 11,
   "metadata": {
    "deletable": false,
    "editable": false,
    "nbgrader": {
     "grade": true,
     "grade_id": "grade_lists_test",
     "locked": true,
     "points": "1",
     "solution": false
    }
   },
   "outputs": [
    {
     "name": "stdout",
     "output_type": "stream",
     "text": [
      "Passed. Please submit!\n"
     ]
    }
   ],
   "source": [
    "import nb_1_2_tester\n",
    "tester = nb_1_2_tester.Tester_1_2_2()\n",
    "for _ in range(20):\n",
    "    try:\n",
    "        tester.run_test(build_grade_lists)\n",
    "        (input_vars, original_input_vars, returned_output_vars, true_output_vars) = tester.get_test_vars()\n",
    "    except:\n",
    "        (input_vars, original_input_vars, returned_output_vars, true_output_vars) = tester.get_test_vars()\n",
    "        raise\n",
    "print('Passed. Please submit!')"
   ]
  },
  {
   "cell_type": "markdown",
   "metadata": {
    "deletable": false,
    "editable": false,
    "nbgrader": {
     "grade": false,
     "grade_id": "cell-a628c6c0f63e7e7c",
     "locked": true,
     "schema_version": 1,
     "solution": false
    }
   },
   "source": [
    "**Exercise 3** (`grade_dicts_test`: 2 points). Complete the function `build_grade_dicts`, again taking `grades` as a parameter and returning new dictionary, `grade_dicts`, that maps names of students to _dictionaries_ containing their scores. Each entry of this scores dictionary should be keyed on assignment name and hold the corresponding grade as an integer. For instance, `grade_dicts['Thorny']['Exam 1'] == 100`. You may find solutions to earlier exercises useful for completing this one. Feel free to use them!"
   ]
  },
  {
   "cell_type": "code",
   "execution_count": 12,
   "metadata": {
    "collapsed": true,
    "nbgrader": {
     "grade": false,
     "grade_id": "grade_dicts",
     "locked": false,
     "schema_version": 1,
     "solution": true
    }
   },
   "outputs": [],
   "source": [
    "def build_grade_dicts(grades):\n",
    "    students = get_students(grades)\n",
    "    assignments = get_assignments(grades)\n",
    "    grade_lists = build_grade_lists(grades)\n",
    "    grade_dicts = {}\n",
    "    for student in students:\n",
    "        grade_dicts[student] = {}\n",
    "        for i in range(len(assignments)):\n",
    "            grade_dicts[student][assignments[i]] = grade_lists[student][i]\n",
    "    return grade_dicts\n",
    "\n",
    "        \n",
    "    ###\n",
    "    ### YOUR CODE HERE\n",
    "    ###\n"
   ]
  },
  {
   "cell_type": "markdown",
   "metadata": {
    "deletable": false,
    "editable": false,
    "nbgrader": {
     "grade": false,
     "locked": true,
     "solution": false
    }
   },
   "source": [
    "The demo cell below should display\n",
    "```\n",
    "{'Thorny': {'Exam 1': 100, 'Exam 2': 90, 'Exam 3': 80},\n",
    " 'Mac': {'Exam 1': 88, 'Exam 2': 99, 'Exam 3': 111},\n",
    " 'Farva': {'Exam 1': 45, 'Exam 2': 56, 'Exam 3': 67},\n",
    " 'Rabbit': {'Exam 1': 59, 'Exam 2': 61, 'Exam 3': 67},\n",
    " 'Ursula': {'Exam 1': 73, 'Exam 2': 79, 'Exam 3': 83},\n",
    " 'Foster': {'Exam 1': 89, 'Exam 2': 97, 'Exam 3': 101}}\n",
    " ```"
   ]
  },
  {
   "cell_type": "code",
   "execution_count": 13,
   "metadata": {
    "deletable": false,
    "editable": false,
    "nbgrader": {
     "grade": false,
     "locked": true,
     "solution": false
    }
   },
   "outputs": [
    {
     "data": {
      "text/plain": [
       "{'Thorny': {'Exam 1': 100, 'Exam 2': 90, 'Exam 3': 80},\n",
       " 'Mac': {'Exam 1': 88, 'Exam 2': 99, 'Exam 3': 111},\n",
       " 'Farva': {'Exam 1': 45, 'Exam 2': 56, 'Exam 3': 67},\n",
       " 'Rabbit': {'Exam 1': 59, 'Exam 2': 61, 'Exam 3': 67},\n",
       " 'Ursula': {'Exam 1': 73, 'Exam 2': 79, 'Exam 3': 83},\n",
       " 'Foster': {'Exam 1': 89, 'Exam 2': 97, 'Exam 3': 101}}"
      ]
     },
     "execution_count": 13,
     "metadata": {},
     "output_type": "execute_result"
    }
   ],
   "source": [
    "grade_dicts = build_grade_dicts(grades)\n",
    "grade_dicts"
   ]
  },
  {
   "cell_type": "code",
   "execution_count": 14,
   "metadata": {
    "deletable": false,
    "editable": false,
    "nbgrader": {
     "grade": true,
     "grade_id": "grade_dicts_test",
     "locked": true,
     "points": "2",
     "solution": false
    }
   },
   "outputs": [
    {
     "name": "stdout",
     "output_type": "stream",
     "text": [
      "Passed. Please submit!\n"
     ]
    }
   ],
   "source": [
    "import nb_1_2_tester\n",
    "tester = nb_1_2_tester.Tester_1_2_3()\n",
    "for _ in range(20):\n",
    "    try:\n",
    "        tester.run_test(build_grade_dicts)\n",
    "        (input_vars, original_input_vars, returned_output_vars, true_output_vars) = tester.get_test_vars()\n",
    "    except:\n",
    "        (input_vars, original_input_vars, returned_output_vars, true_output_vars) = tester.get_test_vars()\n",
    "        raise\n",
    "print('Passed. Please submit!')"
   ]
  },
  {
   "cell_type": "markdown",
   "metadata": {
    "deletable": false,
    "editable": false,
    "nbgrader": {
     "grade": false,
     "grade_id": "cell-840a57a4b61944e5",
     "locked": true,
     "schema_version": 1,
     "solution": false
    }
   },
   "source": [
    "**Exercise 4** (`avg_grades_by_student_test`: 1 point). Complete the function `build_avg_by_student`, taking `grades` as a parameter and returning a dictionary named `avg_by_student` that maps each student to his or her average exam score. For instance, `avg_grades_by_student['Thorny'] == 90`. You may find solutions to earlier exercises useful for completing this one. Feel free to use them!\n",
    "\n",
    "> **Hint.** The [`statistics`](https://docs.python.org/3.5/library/statistics.html) module of Python has at least one helpful function."
   ]
  },
  {
   "cell_type": "code",
   "execution_count": 15,
   "metadata": {
    "collapsed": true,
    "nbgrader": {
     "grade": false,
     "grade_id": "avg_grades_by_student",
     "locked": false,
     "schema_version": 1,
     "solution": true
    }
   },
   "outputs": [],
   "source": [
    "# Create a dict mapping names to grade averages.\n",
    "import statistics\n",
    "def build_avg_by_student(grades):\n",
    "    grade_lists = build_grade_lists(grades)\n",
    "    avg_by_student = {}\n",
    "    for student in grade_lists:\n",
    "        avg_by_student[student] = statistics.mean(grade_lists[student])\n",
    "    return avg_by_student\n",
    "    ###\n",
    "    ### YOUR CODE HERE\n",
    "    ###\n"
   ]
  },
  {
   "cell_type": "markdown",
   "metadata": {
    "deletable": false,
    "editable": false,
    "nbgrader": {
     "grade": false,
     "locked": true,
     "solution": false
    }
   },
   "source": [
    "The demo cell below should display\n",
    "```\n",
    "{'Thorny': 90,\n",
    " 'Mac': 99.33333333333333,\n",
    " 'Farva': 56,\n",
    " 'Rabbit': 62.333333333333336,\n",
    " 'Ursula': 78.33333333333333,\n",
    " 'Foster': 95.66666666666667}\n",
    "```"
   ]
  },
  {
   "cell_type": "code",
   "execution_count": 16,
   "metadata": {
    "deletable": false,
    "editable": false,
    "nbgrader": {
     "grade": false,
     "locked": true,
     "solution": false
    }
   },
   "outputs": [
    {
     "data": {
      "text/plain": [
       "{'Thorny': 90,\n",
       " 'Mac': 99.33333333333333,\n",
       " 'Farva': 56,\n",
       " 'Rabbit': 62.333333333333336,\n",
       " 'Ursula': 78.33333333333333,\n",
       " 'Foster': 95.66666666666667}"
      ]
     },
     "execution_count": 16,
     "metadata": {},
     "output_type": "execute_result"
    }
   ],
   "source": [
    "avg_grades_by_student = build_avg_by_student(grades)\n",
    "avg_grades_by_student"
   ]
  },
  {
   "cell_type": "code",
   "execution_count": 17,
   "metadata": {
    "deletable": false,
    "editable": false,
    "nbgrader": {
     "grade": true,
     "grade_id": "avg_grades_by_student_test",
     "locked": true,
     "points": "1",
     "solution": false
    }
   },
   "outputs": [
    {
     "name": "stdout",
     "output_type": "stream",
     "text": [
      "Passed. Please submit!\n"
     ]
    }
   ],
   "source": [
    "import nb_1_2_tester\n",
    "tester = nb_1_2_tester.Tester_1_2_4()\n",
    "for _ in range(20):\n",
    "    try:\n",
    "        tester.run_test(build_avg_by_student)\n",
    "        (input_vars, original_input_vars, returned_output_vars, true_output_vars) = tester.get_test_vars()\n",
    "    except:\n",
    "        (input_vars, original_input_vars, returned_output_vars, true_output_vars) = tester.get_test_vars()\n",
    "        raise\n",
    "print('Passed. Please submit!')"
   ]
  },
  {
   "cell_type": "markdown",
   "metadata": {
    "deletable": false,
    "editable": false,
    "nbgrader": {
     "grade": false,
     "grade_id": "cell-3f31ab810dcb86d1",
     "locked": true,
     "schema_version": 1,
     "solution": false
    }
   },
   "source": [
    "**Exercise 5** (`grades_by_assignment_test`: 2 points). Complete the function `build_grade_by_asn`, which takes `grades` as a parameter and returns a dictionary named `grade_by_asn`, whose keys are assignment (exam) names and whose values are lists of scores over all students on that assignment. For instance, `grades_by_assignment['Exam 1'] == [100, 88, 45, 59, 73, 89]`. You may find solutions to earlier exercises useful for completing this one. Feel free to use them!"
   ]
  },
  {
   "cell_type": "code",
   "execution_count": 18,
   "metadata": {
    "collapsed": true,
    "nbgrader": {
     "grade": false,
     "grade_id": "grades_by_assignment",
     "locked": false,
     "schema_version": 1,
     "solution": true
    }
   },
   "outputs": [],
   "source": [
    "def build_grade_by_asn(grades):\n",
    "    grade_dicts = build_grade_dicts(grades)\n",
    "    grade_by_asn = {}\n",
    "    assignments = get_assignments(grades)\n",
    "    for asn in assignments:\n",
    "        grade_by_asn[asn] = []\n",
    "        for student in grade_dicts.keys():\n",
    "            grade_by_asn[asn].append(grade_dicts[student][asn])\n",
    "    return grade_by_asn\n",
    "    ###\n",
    "    ### YOUR CODE HERE\n",
    "    ###\n"
   ]
  },
  {
   "cell_type": "markdown",
   "metadata": {
    "deletable": false,
    "editable": false,
    "nbgrader": {
     "grade": false,
     "locked": true,
     "solution": false
    }
   },
   "source": [
    "The demo cell below should display\n",
    "```\n",
    "{'Exam 1': [100, 88, 45, 59, 73, 89],\n",
    " 'Exam 2': [90, 99, 56, 61, 79, 97],\n",
    " 'Exam 3': [80, 111, 67, 67, 83, 101]}\n",
    "```"
   ]
  },
  {
   "cell_type": "code",
   "execution_count": 19,
   "metadata": {
    "deletable": false,
    "editable": false,
    "nbgrader": {
     "grade": false,
     "locked": true,
     "solution": false
    }
   },
   "outputs": [
    {
     "data": {
      "text/plain": [
       "{'Exam 1': [100, 88, 45, 59, 73, 89],\n",
       " 'Exam 2': [90, 99, 56, 61, 79, 97],\n",
       " 'Exam 3': [80, 111, 67, 67, 83, 101]}"
      ]
     },
     "execution_count": 19,
     "metadata": {},
     "output_type": "execute_result"
    }
   ],
   "source": [
    "grades_by_assignment = build_grade_by_asn(grades)\n",
    "grades_by_assignment"
   ]
  },
  {
   "cell_type": "code",
   "execution_count": 20,
   "metadata": {
    "deletable": false,
    "editable": false,
    "nbgrader": {
     "grade": true,
     "grade_id": "grades_by_assignment_test",
     "locked": true,
     "points": "2",
     "solution": false
    }
   },
   "outputs": [
    {
     "name": "stdout",
     "output_type": "stream",
     "text": [
      "Passed. Please submit!\n"
     ]
    }
   ],
   "source": [
    "import nb_1_2_tester\n",
    "tester = nb_1_2_tester.Tester_1_2_5()\n",
    "for _ in range(20):\n",
    "    try:\n",
    "        tester.run_test(build_grade_by_asn)\n",
    "        (input_vars, original_input_vars, returned_output_vars, true_output_vars) = tester.get_test_vars()\n",
    "    except:\n",
    "        (input_vars, original_input_vars, returned_output_vars, true_output_vars) = tester.get_test_vars()\n",
    "        raise\n",
    "print('Passed. Please submit!')"
   ]
  },
  {
   "cell_type": "markdown",
   "metadata": {
    "deletable": false,
    "editable": false,
    "nbgrader": {
     "grade": false,
     "grade_id": "cell-d763d8a25d8cac78",
     "locked": true,
     "schema_version": 1,
     "solution": false
    }
   },
   "source": [
    "**Exercise 6** (`avg_grades_by_assignment_test`: 1 point). Complete the function `build_avg_by_asn`, which takes `grades` as a parameter and returns a dictionary, `avg_by_asn`, which maps each exam to its average score. You may find solutions to earlier exercises useful for completing this one. Feel free to use them!"
   ]
  },
  {
   "cell_type": "code",
   "execution_count": 21,
   "metadata": {
    "collapsed": true,
    "nbgrader": {
     "grade": false,
     "grade_id": "avg_grades_by_assignment",
     "locked": false,
     "schema_version": 1,
     "solution": true
    }
   },
   "outputs": [],
   "source": [
    "# Create a dict mapping items to average for that item across all students.\n",
    "def build_avg_by_asn(grades):\n",
    "    grade_by_asn = build_grade_by_asn(grades)\n",
    "    avg_by_asn = {}\n",
    "    for asn in grade_by_asn.keys():\n",
    "        avg_by_asn[asn] = statistics.mean(grade_by_asn[asn])\n",
    "    return avg_by_asn\n",
    "    ###\n",
    "    ### YOUR CODE HERE\n",
    "    ###\n"
   ]
  },
  {
   "cell_type": "markdown",
   "metadata": {
    "deletable": false,
    "editable": false,
    "nbgrader": {
     "grade": false,
     "locked": true,
     "solution": false
    }
   },
   "source": [
    "The demo cell below should display\n",
    "```\n",
    "{'Exam 1': 75.66666666666667,\n",
    " 'Exam 2': 80.33333333333333,\n",
    " 'Exam 3': 84.83333333333333}\n",
    "```"
   ]
  },
  {
   "cell_type": "code",
   "execution_count": 22,
   "metadata": {
    "deletable": false,
    "editable": false,
    "nbgrader": {
     "grade": false,
     "locked": true,
     "solution": false
    }
   },
   "outputs": [
    {
     "data": {
      "text/plain": [
       "{'Exam 1': 75.66666666666667,\n",
       " 'Exam 2': 80.33333333333333,\n",
       " 'Exam 3': 84.83333333333333}"
      ]
     },
     "execution_count": 22,
     "metadata": {},
     "output_type": "execute_result"
    }
   ],
   "source": [
    "avg_grades_by_assignment = build_avg_by_asn(grades)\n",
    "avg_grades_by_assignment"
   ]
  },
  {
   "cell_type": "code",
   "execution_count": 23,
   "metadata": {
    "deletable": false,
    "editable": false,
    "nbgrader": {
     "grade": true,
     "grade_id": "avg_grades_by_assignment_test",
     "locked": true,
     "points": "1",
     "solution": false
    }
   },
   "outputs": [
    {
     "name": "stdout",
     "output_type": "stream",
     "text": [
      "Passed. Please submit!\n"
     ]
    }
   ],
   "source": [
    "import nb_1_2_tester\n",
    "tester = nb_1_2_tester.Tester_1_2_6()\n",
    "for _ in range(20):\n",
    "    try:\n",
    "        tester.run_test(build_avg_by_asn)\n",
    "        (input_vars, original_input_vars, returned_output_vars, true_output_vars) = tester.get_test_vars()\n",
    "    except:\n",
    "        (input_vars, original_input_vars, returned_output_vars, true_output_vars) = tester.get_test_vars()\n",
    "        raise\n",
    "print('Passed. Please submit!')"
   ]
  },
  {
   "cell_type": "markdown",
   "metadata": {
    "deletable": false,
    "editable": false,
    "nbgrader": {
     "grade": false,
     "grade_id": "cell-7d85977d9fab2482",
     "locked": true,
     "schema_version": 1,
     "solution": false
    }
   },
   "source": [
    "**Exercise 7** (`rank_test`: 2 points). Complete the function `get_ranked_students` which takes `grades` as an argument and returns a new list, `ranked_students`, which contains the names of students in order by _decreasing_ score. That is, `ranked_students[0]` should contain the name of the top student (highest average exam score), and `ranked_students[-1]` should have the name of the bottom student (lowest average exam score). You may find solutions to earlier exercises useful for completing this one. Feel free to use them!"
   ]
  },
  {
   "cell_type": "code",
   "execution_count": 24,
   "metadata": {
    "collapsed": true,
    "nbgrader": {
     "grade": false,
     "grade_id": "rank",
     "locked": false,
     "schema_version": 1,
     "solution": true
    }
   },
   "outputs": [],
   "source": [
    "def get_ranked_students(grades):\n",
    "    avg_by_student = build_avg_by_student(grades)\n",
    "    ranked_students = sorted(avg_by_student, key=avg_by_student.get, reverse=True)\n",
    "    return ranked_students\n",
    "    ###\n",
    "    ### YOUR CODE HERE\n",
    "    ###\n"
   ]
  },
  {
   "cell_type": "markdown",
   "metadata": {
    "deletable": false,
    "editable": false,
    "nbgrader": {
     "grade": false,
     "locked": true,
     "solution": false
    }
   },
   "source": [
    "The demo cell below shuould display `['Mac', 'Foster', 'Thorny', 'Ursula', 'Rabbit', 'Farva']`"
   ]
  },
  {
   "cell_type": "code",
   "execution_count": 25,
   "metadata": {
    "deletable": false,
    "editable": false,
    "nbgrader": {
     "grade": false,
     "locked": true,
     "solution": false
    }
   },
   "outputs": [
    {
     "data": {
      "text/plain": [
       "['Mac', 'Foster', 'Thorny', 'Ursula', 'Rabbit', 'Farva']"
      ]
     },
     "execution_count": 25,
     "metadata": {},
     "output_type": "execute_result"
    }
   ],
   "source": [
    "rank = get_ranked_students(grades)\n",
    "rank"
   ]
  },
  {
   "cell_type": "code",
   "execution_count": 26,
   "metadata": {
    "deletable": false,
    "editable": false,
    "nbgrader": {
     "grade": true,
     "grade_id": "rank_test",
     "locked": true,
     "points": "2",
     "solution": false
    }
   },
   "outputs": [
    {
     "name": "stdout",
     "output_type": "stream",
     "text": [
      "Passed. Please submit!\n"
     ]
    }
   ],
   "source": [
    "import nb_1_2_tester\n",
    "tester = nb_1_2_tester.Tester_1_2_7()\n",
    "for i in range(5):\n",
    "    try:\n",
    "        tester.run_test(get_ranked_students)\n",
    "        (input_vars, original_input_vars, returned_output_vars, true_output_vars) = tester.get_test_vars()\n",
    "    except:\n",
    "        (input_vars, original_input_vars, returned_output_vars, true_output_vars) = tester.get_test_vars()\n",
    "        raise\n",
    "print('Passed. Please submit!')"
   ]
  },
  {
   "cell_type": "markdown",
   "metadata": {
    "collapsed": true,
    "deletable": false,
    "editable": false,
    "nbgrader": {
     "grade": false,
     "locked": true,
     "solution": false
    }
   },
   "source": [
    "**Fin!** You've reached the end of this part. Don't forget to restart and run all cells again to make sure it's all working when run in sequence; and make sure your work passes the submission process. Good luck!"
   ]
  }
 ],
 "metadata": {
  "celltoolbar": "Create Assignment",
  "kernel_info": {
   "name": "python3"
  },
  "kernelspec": {
   "display_name": "Python 3.8",
   "language": "python",
   "name": "python38"
  },
  "language_info": {
   "codemirror_mode": {
    "name": "ipython",
    "version": 3
   },
   "file_extension": ".py",
   "mimetype": "text/x-python",
   "name": "python",
   "nbconvert_exporter": "python",
   "pygments_lexer": "ipython3",
   "version": "3.8.7"
  },
  "nteract": {
   "version": "0.15.0"
  }
 },
 "nbformat": 4,
 "nbformat_minor": 1
}
